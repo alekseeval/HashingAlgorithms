{
 "cells": [
  {
   "cell_type": "markdown",
   "metadata": {
    "collapsed": true,
    "pycharm": {
     "name": "#%% md\n"
    }
   },
   "source": [
    "Подготовка алфавита для дальнейшей работы с ним\n",
    "---"
   ]
  },
  {
   "cell_type": "code",
   "execution_count": 186,
   "outputs": [],
   "source": [
    "alphabet = 'абвгдеёжзийклмнопрстуфхцчшщъыьэюя'\n",
    "alphabet_map = {}\n",
    "i = 1\n",
    "for symbol in alphabet:\n",
    "    alphabet_map[symbol] = i\n",
    "    i+=1"
   ],
   "metadata": {
    "collapsed": false,
    "pycharm": {
     "name": "#%%\n"
    }
   }
  },
  {
   "cell_type": "markdown",
   "source": [
    "Функция хэширования текста по первому учебному методу И. Н. Васильевой\n",
    "---"
   ],
   "metadata": {
    "collapsed": false,
    "pycharm": {
     "name": "#%% md\n"
    }
   }
  },
  {
   "cell_type": "code",
   "execution_count": 187,
   "outputs": [],
   "source": [
    "def hash_text(msg, p):\n",
    "    h = len(msg)\n",
    "    for symbol in msg:\n",
    "        h = (alphabet_map[symbol.lower()] + h)**2 % p\n",
    "    return h\n"
   ],
   "metadata": {
    "collapsed": false,
    "pycharm": {
     "name": "#%%\n"
    }
   }
  },
  {
   "cell_type": "markdown",
   "source": [
    "Функция хэширования текста по второму учебному методу И. Н. Васильевой\n",
    "---"
   ],
   "metadata": {
    "collapsed": false
   }
  },
  {
   "cell_type": "code",
   "execution_count": 188,
   "outputs": [],
   "source": [
    "def hash_number(msg, p):\n",
    "    msg_str = str(msg)\n",
    "    h = len(msg_str)\n",
    "    for digit in msg_str:\n",
    "        h = (int(digit) + 2*h + 1)**2 % (p-1)\n",
    "    return h+1"
   ],
   "metadata": {
    "collapsed": false,
    "pycharm": {
     "name": "#%%\n"
    }
   }
  },
  {
   "cell_type": "markdown",
   "source": [
    "----\n",
    "Проверка работоспособности\n",
    "---"
   ],
   "metadata": {
    "collapsed": false
   }
  },
  {
   "cell_type": "code",
   "execution_count": 189,
   "outputs": [
    {
     "name": "stdout",
     "output_type": "stream",
     "text": [
      "Хэш-значение для стова \"Блеф\" - 13\n",
      "Хэш-значение для числа \"73\" - 5\n"
     ]
    }
   ],
   "source": [
    "print(f'Хэш-значение для стова \"Блеф\" - {hash_text(\"Блеф\", 79)}')\n",
    "print(f'Хэш-значение для числа \"73\" - {hash_number(73, 59)}')\n"
   ],
   "metadata": {
    "collapsed": false,
    "pycharm": {
     "name": "#%%\n"
    }
   }
  }
 ],
 "metadata": {
  "kernelspec": {
   "display_name": "Python 3",
   "language": "python",
   "name": "python3"
  },
  "language_info": {
   "codemirror_mode": {
    "name": "ipython",
    "version": 2
   },
   "file_extension": ".py",
   "mimetype": "text/x-python",
   "name": "python",
   "nbconvert_exporter": "python",
   "pygments_lexer": "ipython2",
   "version": "2.7.6"
  }
 },
 "nbformat": 4,
 "nbformat_minor": 0
}